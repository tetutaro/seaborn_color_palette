{
 "cells": [
  {
   "cell_type": "markdown",
   "metadata": {},
   "source": [
    "# Data Wrangling"
   ]
  },
  {
   "cell_type": "markdown",
   "metadata": {},
   "source": [
    "## データとは\n",
    "\n",
    "データとは、ある種類の（共通した特徴を持つ）対象物に対して、その対象物に関する情報の集合である。\n",
    "\n",
    "例：\n",
    "* ある裁判に対して、その判例を集めたもの（対象物：裁判、情報：判例の文章）\n",
    "* 鳩が写っている写真を集めたもの（対象物：鳩、情報：鳩が写っている画像）\n",
    "* りんごの各データ（重さ・硬さ・糖度等）を、各りんごについて集めたもの"
   ]
  },
  {
   "cell_type": "markdown",
   "metadata": {},
   "source": [
    "## データの種類\n",
    "\n",
    "機械学習の行う対象のデータには、主に以下の３種類がある。\n",
    "\n",
    "* テキストデータ（例：判例）\n",
    "* 画像データ（例：鳩の写真）\n",
    "* Tabularデータ（例；リンゴのデータ）\n",
    "\n",
    "（音声データなどもあり、決して上記３種類だけという訳ではない）\n",
    "\n",
    "これらを「構造化データ」と「非構造化データ」とに分けるならば、\n",
    "Tabularデータのみが構造化データで、他は非構造化データである。\n",
    "\n",
    "Machine Learning を行うためには必ずデータの構造化が必要であるので、\n",
    "テキストデータや画像データも、それぞれにあった方法（前処理方法）で構造化データに変換しなければならない。\n",
    "\n",
    "（ただし一部の Deep Learning Model は非構造化データのままモデルの入力とする）"
   ]
  },
  {
   "cell_type": "markdown",
   "metadata": {},
   "source": [
    "## Tabularデータ\n",
    "\n",
    "Tabularデータは Excel などに代表される表によって表さられるデータである。\n",
    "一般的に１行のデータがひとつの対象物を表している。\n",
    "逆に１列のデータは、特定の特徴のみを全対象物から取得した場合のデータを表す。\n",
    "このような量を「特徴量(feature value)」を呼ぶ。\n",
    "\n",
    "表の行数は、対象物がいくつ存在するかを表し、「N数」などと呼称することがある。\n",
    "表の列数は、どのぐらいの種類の特徴を集めたかを表し、「次元数(dimension)」「"
   ]
  }
 ],
 "metadata": {
  "kernelspec": {
   "display_name": "Python 3",
   "language": "python",
   "name": "python3"
  },
  "language_info": {
   "codemirror_mode": {
    "name": "ipython",
    "version": 3
   },
   "file_extension": ".py",
   "mimetype": "text/x-python",
   "name": "python",
   "nbconvert_exporter": "python",
   "pygments_lexer": "ipython3",
   "version": "3.8.5"
  }
 },
 "nbformat": 4,
 "nbformat_minor": 4
}
