{
 "cells": [
  {
   "cell_type": "code",
   "execution_count": 1,
   "metadata": {},
   "outputs": [],
   "source": [
    "%matplotlib inline\n",
    "from typing import List, Optional\n",
    "import numpy as np\n",
    "import matplotlib.pyplot as plt\n",
    "import matplotlib.ticker as ticker\n",
    "from matplotlib.colors import ListedColormap, LinearSegmentedColormap, to_rgb\n",
    "import seaborn as sns\n",
    "from ipywidgets import interact, fixed, IntSlider, FloatSlider, FloatLogSlider"
   ]
  },
  {
   "cell_type": "markdown",
   "metadata": {},
   "source": [
    "# Choosing color palettes\n",
    "\n",
    "This notebook is a Jupyter implementation of\n",
    "\"[Choosing color palettes](http://seaborn.pydata.org/tutorial/color_palettes.html)\"(seaborn)\n",
    "and also refers to \n",
    "\"[Choosing Colormaps in Matplotlib](https://matplotlib.org/tutorials/colors/colormaps.html)\"."
   ]
  },
  {
   "cell_type": "code",
   "execution_count": 2,
   "metadata": {},
   "outputs": [
    {
     "data": {
      "image/png": "[encoded data removed]",
      "text/plain": [
       "<Figure size 720x72 with 1 Axes>"
      ]
     },
     "metadata": {
      "needs_background": "light"
     },
     "output_type": "display_data"
    }
   ],
   "source": [
    "# Basic example\n",
    "# If as_cmap is True, returns matplotlib.colors.Colormap\n",
    "#     from seaborn 0.11.0 (Sep. 2020)\n",
    "# desat = desaturate\n",
    "sns.palplot(\n",
    "    sns.color_palette(\n",
    "        palette=None, n_colors=None, desat=None, as_cmap=False\n",
    "    ), size=1\n",
    ")"
   ]
  },
  {
   "cell_type": "markdown",
   "metadata": {},
   "source": [
    "## Functions"
   ]
  },
  {
   "cell_type": "code",
   "execution_count": 87,
   "metadata": {},
   "outputs": [],
   "source": [
    "color_palettes = {\n",
    "    'qualitative': ' '.join([\n",
    "        'deep muted pastel bright dark colorblind',  # seaborn original\n",
    "        'tab10 tab20 tab20b tab20c',\n",
    "        'Paired Accent Set1 Pastel1 Set2 Dark2 Pastel2 Set3',\n",
    "    ]),\n",
    "    'cyclic': ' '.join([\n",
    "        'hls husl',  # seaborn original\n",
    "        'hsv twilight twilight_shifted'\n",
    "    ]),\n",
    "    'hue': 'hls husl',\n",
    "    'perceptual': ' '.join([\n",
    "        'rocket mako crest',  # seaborn\n",
    "        'viridis flare plasma inferno magma cividis',  # matplotlib\n",
    "    ]),\n",
    "    'cubehelix': 'cubehelix',\n",
    "    'monotonic': ' '.join([\n",
    "        'Greys Reds Greens Blues Oranges Purples',  # matplotlib (1 color)\n",
    "        'RdPu GnBu BuPu BuGn OrRd PuBu PuRd YlGn',  # matplotlib (2 colors)\n",
    "        'PuBuGn YlGnBu YlOrBr YlOrRd',  # matplotlib\n",
    "        'binary gist_yarg gist_gray gray bone pink',  # matplotlib (binary and darken)\n",
    "    ]),\n",
    "    'diverging': ' '.join([\n",
    "        'vlag icefire',  # seaborn (perceptually uniform)\n",
    "        'PiYG PRGn BrBG PuOr RdGy RdBu',  # matplotlib (two colors)\n",
    "        'RdYlBu RdYlGn Spectral coolwarm bwr seismic',  # matplotlib (three or more)\n",
    "    ]),\n",
    "    'twisting': ' '.join([\n",
    "        'spring summer autumn winter cool Wistia',  # matplotlib (up and down)\n",
    "        'hot afmhot gist_heat copper',  # matplotlib (kink)\n",
    "    ]),\n",
    "    'miscellaneous': ' '.join([\n",
    "        'CMRmap brg flag gist_earth gist_ncar gist_rainbow gist_stern gnuplot gnuplot2',\n",
    "        'inferno nipy_spectral ocean prism rainbow terrain turbo',\n",
    "    ])\n",
    "    # \"jet\" !!\n",
    "}"
   ]
  },
  {
   "cell_type": "code",
   "execution_count": 52,
   "metadata": {},
   "outputs": [],
   "source": [
    "def draw_color_palettes(\n",
    "    palettes: List[str]\n",
    ") -> None:\n",
    "    fig, axes = plt.subplots(nrows=len(palettes), figsize=(6.4, len(palettes) * 0.4))\n",
    "    fig.subplots_adjust(top=0.95, bottom=0.01, left=0.2, right=0.99)\n",
    "    gradient = np.linspace(0, 1, 256)\n",
    "    gradient = np.vstack((gradient, gradient))\n",
    "    if axes.__class__.__name__ != 'ndarray':\n",
    "        axes = np.array([axes])\n",
    "    for ax, palette in zip(axes, palettes):\n",
    "        cmap = sns.color_palette(\n",
    "            palette=palette, as_cmap=True\n",
    "        )\n",
    "        if cmap.__class__.__name__ == 'list':\n",
    "            cmap = LinearSegmentedColormap.from_list(\n",
    "                name=palette, N=len(cmap),\n",
    "                colors=[\n",
    "                    to_rgb(x) for x in cmap\n",
    "                ]\n",
    "            )\n",
    "        ax.imshow(gradient, aspect='auto', cmap=cmap)\n",
    "        ax.set_axis_off()\n",
    "        pos = list(ax.get_position().bounds)\n",
    "        x_text = pos[0] - 0.01\n",
    "        y_text = pos[1] + pos[3]/2.\n",
    "        fig.text(x_text, y_text, palette, va='center', ha='right', fontsize=14)\n",
    "    return"
   ]
  },
  {
   "cell_type": "code",
   "execution_count": 53,
   "metadata": {},
   "outputs": [],
   "source": [
    "def draw_each_color_palette(\n",
    "    palette: str,\n",
    "    reverse: bool,\n",
    "    n_colors: Optional[int],\n",
    "    desaturation: Optional[float] = 1.0\n",
    ") -> None:\n",
    "    if reverse:\n",
    "        palette += '_r'\n",
    "    pal = sns.color_palette(\n",
    "        palette=palette, n_colors=n_colors, desat=desaturation, as_cmap=False\n",
    "    )\n",
    "    fig, ax = plt.subplots(1, 1, figsize=(n_colors, 1))\n",
    "    ax.imshow(\n",
    "        np.arange(n_colors).reshape(1, n_colors),\n",
    "        cmap=ListedColormap(list(pal)),\n",
    "        interpolation='nearest', aspect='auto'\n",
    "    )\n",
    "    ax.set_xticks(np.arange(n_colors))\n",
    "    ax.set_yticks([])\n",
    "    ax.set_xticklabels([str(i) for i in range(n_colors)])\n",
    "    ax.yaxis.set_major_locator(ticker.NullLocator())\n",
    "    return"
   ]
  },
  {
   "cell_type": "code",
   "execution_count": 54,
   "metadata": {},
   "outputs": [],
   "source": [
    "def draw_hue_color_palette(\n",
    "    palette: str,\n",
    "    n_colors: Optional[int],\n",
    "    first_hue: Optional[float],\n",
    "    lightness: Optional[float],\n",
    "    saturation: Optional[float]\n",
    ") -> None:\n",
    "    pal = eval(f'sns.{palette}_palette')(\n",
    "        n_colors=n_colors, h=first_hue, l=lightness, s=saturation, as_cmap=False\n",
    "    )\n",
    "    fig, ax = plt.subplots(1, 1, figsize=(n_colors, 1))\n",
    "    ax.imshow(\n",
    "        np.arange(n_colors).reshape(1, n_colors),\n",
    "        cmap=ListedColormap(list(pal)),\n",
    "        interpolation='nearest', aspect='auto'\n",
    "    )\n",
    "    ax.set_xticks(np.arange(n_colors))\n",
    "    ax.set_yticks([])\n",
    "    ax.set_xticklabels([str(i) for i in range(n_colors)])\n",
    "    ax.yaxis.set_major_locator(ticker.NullLocator())\n",
    "    return"
   ]
  },
  {
   "cell_type": "code",
   "execution_count": 55,
   "metadata": {},
   "outputs": [],
   "source": [
    "def draw_cubehelix_color_palette(\n",
    "    reverse: bool,\n",
    "    n_colors: Optional[int],\n",
    "    start_hue: Optional[float],\n",
    "    n_rotations: Optional[float],\n",
    "    gamma: Optional[float],\n",
    "    hue: Optional[float],\n",
    "    lightest: Optional[float],\n",
    "    darkest: Optional[float]\n",
    ") -> None:\n",
    "    pal = sns.cubehelix_palette(\n",
    "        n_colors=n_colors, start=start_hue, rot=n_rotations,\n",
    "        gamma=gamma, hue=hue, light=lightest, dark=darkest,\n",
    "        reverse=reverse, as_cmap=False\n",
    "    )\n",
    "    fig, ax = plt.subplots(1, 1, figsize=(n_colors, 1))\n",
    "    ax.imshow(\n",
    "        np.arange(n_colors).reshape(1, n_colors),\n",
    "        cmap=ListedColormap(list(pal)),\n",
    "        interpolation='nearest', aspect='auto'\n",
    "    )\n",
    "    ax.set_xticks(np.arange(n_colors))\n",
    "    ax.set_yticks([])\n",
    "    ax.set_xticklabels([str(i) for i in range(n_colors)])\n",
    "    ax.yaxis.set_major_locator(ticker.NullLocator())\n",
    "    return"
   ]
  },
  {
   "cell_type": "markdown",
   "metadata": {},
   "source": [
    "## Qualitative Color Palettes\n",
    "\n",
    "Use for representing categorical data"
   ]
  },
  {
   "cell_type": "code",
   "execution_count": 88,
   "metadata": {},
   "outputs": [
    {
     "data": {
      "image/png": "[encoded data removed]",
      "text/plain": [
       "<Figure size 460.8x518.4 with 18 Axes>"
      ]
     },
     "metadata": {
      "needs_background": "light"
     },
     "output_type": "display_data"
    }
   ],
   "source": [
    "draw_color_palettes(palettes=color_palettes['qualitative'].split())"
   ]
  },
  {
   "cell_type": "code",
   "execution_count": 57,
   "metadata": {},
   "outputs": [
    {
     "data": {
      "application/vnd.jupyter.widget-view+json": {
       "model_id": "6ba1804643a64b26a42c767cee4eb6b1",
       "version_major": 2,
       "version_minor": 0
      },
      "text/plain": [
       "interactive(children=(Dropdown(description='palette', options=('deep', 'muted', 'pastel', 'bright', 'dark', 'c…"
      ]
     },
     "metadata": {},
     "output_type": "display_data"
    }
   ],
   "source": [
    "# Check color palette interactively\n",
    "_ = interact(\n",
    "    draw_each_color_palette,\n",
    "    palette=color_palettes['qualitative'].split(),\n",
    "    reverse=fixed(False),\n",
    "    n_colors=IntSlider(min=1, max=48, step=1, value=10),\n",
    "    desaturation=FloatSlider(min=0.0, max=1.0, step=0.01, value=1.0)\n",
    ")"
   ]
  },
  {
   "cell_type": "markdown",
   "metadata": {},
   "source": [
    "## Sequential Color Palettes"
   ]
  },
  {
   "cell_type": "markdown",
   "metadata": {},
   "source": [
    "### Cyclic Color Palettes"
   ]
  },
  {
   "cell_type": "code",
   "execution_count": 89,
   "metadata": {},
   "outputs": [
    {
     "data": {
      "image/png": "[encoded data removed]",
      "text/plain": [
       "<Figure size 460.8x144 with 5 Axes>"
      ]
     },
     "metadata": {
      "needs_background": "light"
     },
     "output_type": "display_data"
    }
   ],
   "source": [
    "draw_color_palettes(palettes=color_palettes['cyclic'].split())"
   ]
  },
  {
   "cell_type": "code",
   "execution_count": 59,
   "metadata": {},
   "outputs": [
    {
     "data": {
      "application/vnd.jupyter.widget-view+json": {
       "model_id": "06e64e7baf4640d7b28149e3ad57305e",
       "version_major": 2,
       "version_minor": 0
      },
      "text/plain": [
       "interactive(children=(Dropdown(description='palette', options=('hls', 'husl', 'twilight', 'twilight_shifted', …"
      ]
     },
     "metadata": {},
     "output_type": "display_data"
    }
   ],
   "source": [
    "# Check color palette interactively\n",
    "_ = interact(\n",
    "    draw_each_color_palette,\n",
    "    palette=color_palettes['cyclic'].split(),\n",
    "    reverse=fixed(False),\n",
    "    n_colors=IntSlider(min=1, max=48, step=1, value=10),\n",
    "    desaturation=FloatSlider(min=0.0, max=1.0, step=0.01, value=1.0)\n",
    ")"
   ]
  },
  {
   "cell_type": "code",
   "execution_count": 60,
   "metadata": {},
   "outputs": [
    {
     "data": {
      "application/vnd.jupyter.widget-view+json": {
       "model_id": "12e03e91b74b48d9a6e0c6639f047f47",
       "version_major": 2,
       "version_minor": 0
      },
      "text/plain": [
       "interactive(children=(Dropdown(description='palette', options=('hls', 'husl'), value='hls'), IntSlider(value=1…"
      ]
     },
     "metadata": {},
     "output_type": "display_data"
    }
   ],
   "source": [
    "# Adjust hue as you like\n",
    "_ = interact(\n",
    "    draw_hue_color_palette,\n",
    "    palette=color_palettes['hue'].split(),\n",
    "    n_colors=IntSlider(min=1, max=48, step=1, value=10),\n",
    "    first_hue=FloatSlider(min=0.0, max=1.0, step=0.01, value=0.01),\n",
    "    lightness=FloatSlider(min=0.0, max=1.0, step=0.01, value=0.6),\n",
    "    saturation=FloatSlider(min=0.0, max=1.0, step=0.01, value=0.65)\n",
    ")"
   ]
  },
  {
   "cell_type": "markdown",
   "metadata": {},
   "source": [
    "### Perceptually Uniform Color Palettes"
   ]
  },
  {
   "cell_type": "code",
   "execution_count": 61,
   "metadata": {},
   "outputs": [
    {
     "data": {
      "image/png": "[encoded data removed]",
      "text/plain": [
       "<Figure size 460.8x259.2 with 9 Axes>"
      ]
     },
     "metadata": {
      "needs_background": "light"
     },
     "output_type": "display_data"
    }
   ],
   "source": [
    "draw_color_palettes(palettes=color_palettes['perceptual'].split())"
   ]
  },
  {
   "cell_type": "code",
   "execution_count": 62,
   "metadata": {},
   "outputs": [
    {
     "data": {
      "application/vnd.jupyter.widget-view+json": {
       "model_id": "e1f511c458db4625b9c827ed4c5271db",
       "version_major": 2,
       "version_minor": 0
      },
      "text/plain": [
       "interactive(children=(Dropdown(description='palette', options=('rocket', 'mako', 'crest', 'viridis', 'flare', …"
      ]
     },
     "metadata": {},
     "output_type": "display_data"
    }
   ],
   "source": [
    "# Check color palette interactively\n",
    "_ = interact(\n",
    "    draw_each_color_palette,\n",
    "    palette=color_palettes['perceptual'].split(),\n",
    "    reverse=False,\n",
    "    n_colors=IntSlider(min=1, max=48, step=1, value=10),\n",
    "    desaturation=FloatSlider(min=0.0, max=1.0, step=0.01, value=1.0)\n",
    ")"
   ]
  },
  {
   "cell_type": "markdown",
   "metadata": {},
   "source": [
    "### Cubehelix Color Palettes"
   ]
  },
  {
   "cell_type": "code",
   "execution_count": 63,
   "metadata": {},
   "outputs": [
    {
     "data": {
      "image/png": "[encoded data removed]",
      "text/plain": [
       "<Figure size 460.8x28.8 with 1 Axes>"
      ]
     },
     "metadata": {
      "needs_background": "light"
     },
     "output_type": "display_data"
    }
   ],
   "source": [
    "draw_color_palettes(palettes=color_palettes['cubehelix'].split())"
   ]
  },
  {
   "cell_type": "code",
   "execution_count": 64,
   "metadata": {},
   "outputs": [
    {
     "data": {
      "application/vnd.jupyter.widget-view+json": {
       "model_id": "95e48cc9e30348169501044a1c9d339b",
       "version_major": 2,
       "version_minor": 0
      },
      "text/plain": [
       "interactive(children=(Checkbox(value=False, description='reverse'), IntSlider(value=10, description='n_colors'…"
      ]
     },
     "metadata": {},
     "output_type": "display_data"
    }
   ],
   "source": [
    "# Adjust hue as you like\n",
    "_ = interact(\n",
    "    draw_cubehelix_color_palette,\n",
    "    reverse=False,\n",
    "    n_colors=IntSlider(min=1, max=48, step=1, value=10),\n",
    "    start_hue=FloatSlider(min=0.0, max=3.0, step=0.01, value=0.0),\n",
    "    n_rotations=FloatSlider(min=-1.0, max=1.0, step=0.01, value=0.4),\n",
    "    gamma=FloatSlider(min=0.0, max=20.0, step=0.1, value=1.0),\n",
    "    hue=FloatSlider(min=0.0, max=1.0, step=0.01, value=0.8),\n",
    "    lightest=FloatSlider(min=0.0, max=1.0, step=0.01, value=0.85),\n",
    "    darkest=FloatSlider(min=0.0, max=1.0, step=0.01, value=0.15)\n",
    ")"
   ]
  },
  {
   "cell_type": "markdown",
   "metadata": {},
   "source": [
    "### Monotonic Color Palettes"
   ]
  },
  {
   "cell_type": "code",
   "execution_count": 65,
   "metadata": {},
   "outputs": [
    {
     "data": {
      "image/png": "[encoded data removed]",
      "text/plain": [
       "<Figure size 460.8x691.2 with 24 Axes>"
      ]
     },
     "metadata": {
      "needs_background": "light"
     },
     "output_type": "display_data"
    }
   ],
   "source": [
    "draw_color_palettes(palettes=color_palettes['monotonic'].split())"
   ]
  },
  {
   "cell_type": "code",
   "execution_count": 66,
   "metadata": {},
   "outputs": [
    {
     "data": {
      "application/vnd.jupyter.widget-view+json": {
       "model_id": "601b13fe04b14700927c27dd44af07d8",
       "version_major": 2,
       "version_minor": 0
      },
      "text/plain": [
       "interactive(children=(Dropdown(description='palette', options=('Greys', 'Reds', 'Greens', 'Blues', 'Oranges', …"
      ]
     },
     "metadata": {},
     "output_type": "display_data"
    }
   ],
   "source": [
    "# Check color palette interactively\n",
    "_ = interact(\n",
    "    draw_each_color_palette,\n",
    "    palette=color_palettes['monotonic'].split(),\n",
    "    reverse=False,\n",
    "    n_colors=IntSlider(min=1, max=48, step=1, value=10),\n",
    "    desaturation=FloatSlider(min=0.0, max=1.0, step=0.01, value=1.0)\n",
    ")"
   ]
  },
  {
   "cell_type": "markdown",
   "metadata": {},
   "source": [
    "### Twisting Color Palettes"
   ]
  },
  {
   "cell_type": "code",
   "execution_count": 67,
   "metadata": {},
   "outputs": [
    {
     "data": {
      "image/png": "[encoded data removed]",
      "text/plain": [
       "<Figure size 460.8x288 with 10 Axes>"
      ]
     },
     "metadata": {
      "needs_background": "light"
     },
     "output_type": "display_data"
    }
   ],
   "source": [
    "draw_color_palettes(palettes=color_palettes['twisting'].split())"
   ]
  },
  {
   "cell_type": "code",
   "execution_count": 68,
   "metadata": {},
   "outputs": [
    {
     "data": {
      "application/vnd.jupyter.widget-view+json": {
       "model_id": "b60a68eb81904eea8d4284903a384803",
       "version_major": 2,
       "version_minor": 0
      },
      "text/plain": [
       "interactive(children=(Dropdown(description='palette', options=('spring', 'summer', 'autumn', 'winter', 'cool',…"
      ]
     },
     "metadata": {},
     "output_type": "display_data"
    }
   ],
   "source": [
    "# Check color palette interactively\n",
    "_ = interact(\n",
    "    draw_each_color_palette,\n",
    "    palette=color_palettes['twisting'].split(),\n",
    "    reverse=False,\n",
    "    n_colors=IntSlider(min=1, max=48, step=1, value=10),\n",
    "    desaturation=FloatSlider(min=0.0, max=1.0, step=0.01, value=1.0)\n",
    ")"
   ]
  },
  {
   "cell_type": "markdown",
   "metadata": {},
   "source": [
    "### Diverging Color Palettes"
   ]
  },
  {
   "cell_type": "code",
   "execution_count": 69,
   "metadata": {},
   "outputs": [
    {
     "data": {
      "image/png": "[encoded data removed]",
      "text/plain": [
       "<Figure size 460.8x403.2 with 14 Axes>"
      ]
     },
     "metadata": {
      "needs_background": "light"
     },
     "output_type": "display_data"
    }
   ],
   "source": [
    "draw_color_palettes(palettes=color_palettes['diverging'].split())"
   ]
  },
  {
   "cell_type": "code",
   "execution_count": 70,
   "metadata": {},
   "outputs": [
    {
     "data": {
      "application/vnd.jupyter.widget-view+json": {
       "model_id": "25948dbf89504626a72c7b7aa3a660d0",
       "version_major": 2,
       "version_minor": 0
      },
      "text/plain": [
       "interactive(children=(Dropdown(description='palette', options=('vlag', 'icefire', 'PiYG', 'PRGn', 'BrBG', 'PuO…"
      ]
     },
     "metadata": {},
     "output_type": "display_data"
    }
   ],
   "source": [
    "# Check color palette interactively\n",
    "_ = interact(\n",
    "    draw_each_color_palette,\n",
    "    palette=color_palettes['diverging'].split(),\n",
    "    reverse=False,\n",
    "    n_colors=IntSlider(min=1, max=48, step=1, value=10),\n",
    "    desaturation=FloatSlider(min=0.0, max=1.0, step=0.01, value=1.0)\n",
    ")"
   ]
  },
  {
   "cell_type": "markdown",
   "metadata": {},
   "source": [
    "### Misc Color Pallets"
   ]
  },
  {
   "cell_type": "code",
   "execution_count": 83,
   "metadata": {},
   "outputs": [
    {
     "data": {
      "image/png": "[encoded data removed]",
      "text/plain": [
       "<Figure size 460.8x460.8 with 16 Axes>"
      ]
     },
     "metadata": {
      "needs_background": "light"
     },
     "output_type": "display_data"
    }
   ],
   "source": [
    "draw_color_palettes(palettes=color_palettes['misc'].split())"
   ]
  },
  {
   "cell_type": "code",
   "execution_count": 84,
   "metadata": {},
   "outputs": [
    {
     "data": {
      "application/vnd.jupyter.widget-view+json": {
       "model_id": "86aa32e4f7764bb1af6273f9c3240403",
       "version_major": 2,
       "version_minor": 0
      },
      "text/plain": [
       "interactive(children=(Dropdown(description='palette', options=('CMRmap', 'brg', 'flag', 'gist_earth', 'gist_nc…"
      ]
     },
     "metadata": {},
     "output_type": "display_data"
    }
   ],
   "source": [
    "# Check color palette interactively\n",
    "_ = interact(\n",
    "    draw_each_color_palette,\n",
    "    palette=color_palettes['misc'].split(),\n",
    "    reverse=False,\n",
    "    n_colors=IntSlider(min=1, max=48, step=1, value=10),\n",
    "    desaturation=FloatSlider(min=0.0, max=1.0, step=0.01, value=1.0)\n",
    ")"
   ]
  },
  {
   "cell_type": "code",
   "execution_count": null,
   "metadata": {},
   "outputs": [],
   "source": [
    "# Indices to step through colormap\n",
    "x = np.linspace(0.0, 1.0, 100)\n",
    "\n",
    "# Do plot\n",
    "for cmap_category, cmap_list in cmaps.items():\n",
    "    # Do subplots so that colormaps have enough space.\n",
    "    # Default is 6 colormaps per subplot.\n",
    "    dsub = _DSUBS.get(cmap_category, 6)\n",
    "    nsubplots = int(np.ceil(len(cmap_list) / dsub))\n",
    "\n",
    "    # squeeze=False to handle similarly the case of a single subplot\n",
    "    fig, axes = plt.subplots(nrows=nsubplots, squeeze=False,\n",
    "                             figsize=(7, 2.6*nsubplots))\n",
    "\n",
    "    for i, ax in enumerate(axes.flat):\n",
    "\n",
    "        locs = []  # locations for text labels\n",
    "\n",
    "        for j, cmap in enumerate(cmap_list[i*dsub:(i+1)*dsub]):\n",
    "\n",
    "            # Get RGB values for colormap and convert the colormap in\n",
    "            # CAM02-UCS colorspace.  lab[0, :, 0] is the lightness.\n",
    "            rgb = cm.get_cmap(cmap)(x)[np.newaxis, :, :3]\n",
    "            lab = cspace_converter(\"sRGB1\", \"CAM02-UCS\")(rgb)\n",
    "\n",
    "            # Plot colormap L values.  Do separately for each category\n",
    "            # so each plot can be pretty.  To make scatter markers change\n",
    "            # color along plot:\n",
    "            # http://stackoverflow.com/questions/8202605/\n",
    "\n",
    "            if cmap_category == 'Sequential':\n",
    "                # These colormaps all start at high lightness but we want them\n",
    "                # reversed to look nice in the plot, so reverse the order.\n",
    "                y_ = lab[0, ::-1, 0]\n",
    "                c_ = x[::-1]\n",
    "            else:\n",
    "                y_ = lab[0, :, 0]\n",
    "                c_ = x\n",
    "\n",
    "            dc = _DC.get(cmap_category, 1.4)  # cmaps horizontal spacing\n",
    "            ax.scatter(x + j*dc, y_, c=c_, cmap=cmap, s=300, linewidths=0.0)\n",
    "\n",
    "            # Store locations for colormap labels\n",
    "            if cmap_category in ('Perceptually Uniform Sequential',\n",
    "                                 'Sequential'):\n",
    "                locs.append(x[-1] + j*dc)\n",
    "            elif cmap_category in ('Diverging', 'Qualitative', 'Cyclic',\n",
    "                                   'Miscellaneous', 'Sequential (2)'):\n",
    "                locs.append(x[int(x.size/2.)] + j*dc)\n",
    "\n",
    "        # Set up the axis limits:\n",
    "        #   * the 1st subplot is used as a reference for the x-axis limits\n",
    "        #   * lightness values goes from 0 to 100 (y-axis limits)\n",
    "        ax.set_xlim(axes[0, 0].get_xlim())\n",
    "        ax.set_ylim(0.0, 100.0)\n",
    "\n",
    "        # Set up labels for colormaps\n",
    "        ax.xaxis.set_ticks_position('top')\n",
    "        ticker = mpl.ticker.FixedLocator(locs)\n",
    "        ax.xaxis.set_major_locator(ticker)\n",
    "        formatter = mpl.ticker.FixedFormatter(cmap_list[i*dsub:(i+1)*dsub])\n",
    "        ax.xaxis.set_major_formatter(formatter)\n",
    "        ax.xaxis.set_tick_params(rotation=50)\n",
    "        ax.set_ylabel('Lightness $L^*$', fontsize=12)\n",
    "\n",
    "    ax.set_xlabel(cmap_category + ' colormaps', fontsize=14)\n",
    "\n",
    "    fig.tight_layout(h_pad=0.0, pad=1.5)\n",
    "    plt.show()"
   ]
  },
  {
   "cell_type": "markdown",
   "metadata": {},
   "source": [
    "### 連続カラーパレット (Sequencial color palettes)"
   ]
  },
  {
   "cell_type": "code",
   "execution_count": null,
   "metadata": {},
   "outputs": [],
   "source": [
    "# 基本\n",
    "sns.palplot(sns.color_palette(\"Blues\"))\n",
    "# dark\n",
    "sns.palplot(sns.color_palette(\"Blues_d\"))\n",
    "# reverse\n",
    "sns.palplot(sns.color_palette(\"Blues_r\"))"
   ]
  },
  {
   "cell_type": "code",
   "execution_count": null,
   "metadata": {},
   "outputs": [],
   "source": [
    "sns.choose_colorbrewer_palette('sequential');"
   ]
  },
  {
   "cell_type": "markdown",
   "metadata": {},
   "source": [
    "### cubehelix_paletteを用いた連続カラーパレット (Sequential palettes with cubehelix_palette())"
   ]
  },
  {
   "cell_type": "code",
   "execution_count": null,
   "metadata": {},
   "outputs": [],
   "source": [
    "sns.palplot(sns.light_palette(\"blue\", 24))\n",
    "sns.palplot(sns.dark_palette(\"blue\", 24))"
   ]
  },
  {
   "cell_type": "code",
   "execution_count": null,
   "metadata": {},
   "outputs": [],
   "source": [
    "def show_pal3(light_or_dark, color, reverse):\n",
    "    sns.palplot(eval('sns.%s_palette'%light_or_dark)(color=color, n_colors=24, reverse=reverse))\n",
    "interact(show_pal3, light_or_dark=('light', 'dark'), color=('blue', 'navy', 'green', 'palegreen', 'red'), reverse=False);"
   ]
  },
  {
   "cell_type": "code",
   "execution_count": null,
   "metadata": {},
   "outputs": [],
   "source": [
    "sns.palplot(sns.diverging_palette(220, 20, n=24))\n",
    "sns.palplot(sns.diverging_palette(145, 280, s=85, l=25, n=24))\n",
    "sns.palplot(sns.diverging_palette(255, 133, l=60, n=24, center=\"dark\"))"
   ]
  },
  {
   "cell_type": "code",
   "execution_count": null,
   "metadata": {},
   "outputs": [],
   "source": [
    "def show_pal4(h_neg, h_pos, s, l, center):\n",
    "    sns.palplot(sns.diverging_palette(h_neg, h_pos, n=24, s=s, l=l, center=center))\n",
    "interact(show_pal4, h_neg=FloatSlider(220, max=360), h_pos=FloatSlider(20, max=360), \n",
    "         s=FloatSlider(75, max=99), l=FloatSlider(50, max=99), center=('light', 'dark'));"
   ]
  }
 ],
 "metadata": {
  "kernelspec": {
   "display_name": "Python 3",
   "language": "python",
   "name": "python3"
  },
  "language_info": {
   "codemirror_mode": {
    "name": "ipython",
    "version": 3
   },
   "file_extension": ".py",
   "mimetype": "text/x-python",
   "name": "python",
   "nbconvert_exporter": "python",
   "pygments_lexer": "ipython3",
   "version": "3.8.5"
  }
 },
 "nbformat": 4,
 "nbformat_minor": 4
}
