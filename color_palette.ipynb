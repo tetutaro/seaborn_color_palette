{
 "cells": [
  {
   "cell_type": "code",
   "execution_count": 1,
   "metadata": {},
   "outputs": [],
   "source": [
    "%matplotlib inline\n",
    "import numpy as np\n",
    "import matplotlib.pyplot as plt\n",
    "from matplotlib.colors import ListedColormap\n",
    "import seaborn as sns\n",
    "from ipywidgets import interact, Dropdown, IntSlider, FloatSlider"
   ]
  },
  {
   "cell_type": "markdown",
   "metadata": {},
   "source": [
    "# Choosing color palettes\n",
    "\n",
    "This notebook is a Jupyter implementation of\n",
    "\"[Choosing color palettes](http://seaborn.pydata.org/tutorial/color_palettes.html)\"(seaborn)\n",
    "and also refers to \n",
    "\"[Choosing Colormaps in Matplotlib](https://matplotlib.org/tutorials/colors/colormaps.html)\"."
   ]
  },
  {
   "cell_type": "markdown",
   "metadata": {},
   "source": [
    "## Qualitative color palettes\n",
    "\n",
    "Use for representing categorical data"
   ]
  },
  {
   "cell_type": "code",
   "execution_count": 2,
   "metadata": {},
   "outputs": [
    {
     "data": {
      "image/png": "[encoded data removed]",
      "text/plain": [
       "<Figure size 720x72 with 1 Axes>"
      ]
     },
     "metadata": {
      "needs_background": "light"
     },
     "output_type": "display_data"
    }
   ],
   "source": [
    "# Basic example\n",
    "# If as_cmap is True, returns matplotlib.colors.Colormap\n",
    "#     from seaborn 0.11.0 (Sep. 2020)\n",
    "# desat = desaturate\n",
    "sns.palplot(\n",
    "    sns.color_palette(\n",
    "        palette=None, n_colors=None, desat=None, as_cmap=False\n",
    "    ), size=1\n",
    ")"
   ]
  },
  {
   "cell_type": "code",
   "execution_count": 3,
   "metadata": {},
   "outputs": [
    {
     "name": "stdout",
     "output_type": "stream",
     "text": [
      "<class 'seaborn.palettes._ColorPalette'> _ColorPalette\n",
      "<class 'list'> list\n",
      "<class 'seaborn.palettes._ColorPalette'> _ColorPalette\n",
      "<class 'matplotlib.colors.ListedColormap'> ListedColormap\n",
      "<class 'seaborn.palettes._ColorPalette'> _ColorPalette\n",
      "<class 'matplotlib.colors.ListedColormap'> ListedColormap\n"
     ]
    }
   ],
   "source": [
    "hoge = sns.color_palette(palette=None, as_cmap=False)\n",
    "print(type(hoge), hoge.__class__.__name__)\n",
    "hoge = sns.color_palette(palette=None, as_cmap=True)\n",
    "print(type(hoge), hoge.__class__.__name__)\n",
    "hoge = sns.color_palette(palette='Set1', as_cmap=False)\n",
    "print(type(hoge), hoge.__class__.__name__)\n",
    "hoge = sns.color_palette(palette='Set1', as_cmap=True)\n",
    "print(type(hoge), hoge.__class__.__name__)\n",
    "hoge = sns.color_palette(palette='rocket', as_cmap=False)\n",
    "print(type(hoge), hoge.__class__.__name__)\n",
    "hoge = sns.color_palette(palette='rocket', as_cmap=True)\n",
    "print(type(hoge), hoge.__class__.__name__)"
   ]
  },
  {
   "cell_type": "code",
   "execution_count": 4,
   "metadata": {},
   "outputs": [
    {
     "data": {
      "image/png": "[encoded data removed]",
      "text/plain": [
       "<Figure size 432x72 with 1 Axes>"
      ]
     },
     "metadata": {
      "needs_background": "light"
     },
     "output_type": "display_data"
    }
   ],
   "source": [
    "sns.palplot(sns.color_palette(palette='rocket', as_cmap=False))"
   ]
  },
  {
   "cell_type": "code",
   "execution_count": 5,
   "metadata": {},
   "outputs": [],
   "source": [
    "def draw_colormap(cmap: ListedColormap) -> None:\n",
    "    gradient = np.linspace(0, 1, 256)\n",
    "    gradient = np.vstack((gradient, gradient))\n",
    "    plt.figure(figsize=(30, 2))\n",
    "    plt.imshow(gradient, aspect='auto', cmap=cmap)\n",
    "    plt.axis('off')\n",
    "    return"
   ]
  },
  {
   "cell_type": "code",
   "execution_count": 9,
   "metadata": {},
   "outputs": [
    {
     "data": {
      "image/png": "[encoded data removed]",
      "text/plain": [
       "<Figure size 2160x144 with 1 Axes>"
      ]
     },
     "metadata": {
      "needs_background": "light"
     },
     "output_type": "display_data"
    }
   ],
   "source": [
    "draw_gradients(sns.color_palette(palette='Pastel1', as_cmap=True))"
   ]
  },
  {
   "cell_type": "code",
   "execution_count": null,
   "metadata": {},
   "outputs": [],
   "source": [
    "# Check color palette interactively\n",
    "def draw_qualitative_palette(\n",
    "    palette: str, n_colors: int, desat: float, size: float,\n",
    ") -> None:\n",
    "    sns.palplot(\n",
    "        sns.color_palette(\n",
    "            palette=palette, n_colors=n_colors, desat=desat\n",
    "        ), size=size\n",
    "    )\n",
    "    return\n",
    "\n",
    "\n",
    "qualitative_palettes = ' '.join([\n",
    "    'deep muted pastel bright dark colorbind',  # from seaborn\n",
    "    'Pastel1 Pastel2 Paired Accent Dark2 Set1 Set2 Set3',  # from matplotlib\n",
    "    'tab10 tab20 tab20b tab20c',  # matplotlib default colormap\n",
    "])\n",
    "_ = interact(\n",
    "    draw_qualitative_palette,\n",
    "    palette=qualitative_palettes.split(),\n",
    "    n_colors=IntSlider(value=10, min=1, max=48, step=1),\n",
    "    desat=FloatSlider(value=1.0, min=0.0, max=1.0, step=0.01),\n",
    "    size=FloatSlider(value=1.0, min=1.0, max=3, step=0.1)\n",
    ")"
   ]
  },
  {
   "cell_type": "markdown",
   "metadata": {},
   "source": [
    "## Using circular color systems"
   ]
  },
  {
   "cell_type": "code",
   "execution_count": null,
   "metadata": {},
   "outputs": [],
   "source": [
    "# Basic Example\n",
    "# use sns.color_palette()\n",
    "sns.palplot(\n",
    "    sns.color_palette(\n",
    "        palette='twilight', n_colors=None, desat=None\n",
    "    ), size=1\n",
    ")\n",
    "sns.palplot(\n",
    "    sns.color_palette(\n",
    "        palette='hsv', n_colors=None, desat=None\n",
    "    ), size=1\n",
    ")\n",
    "# use sns.hls/husl_palette()\n",
    "# l: lightness\n",
    "# s: saturation\n",
    "# h: first hue\n",
    "sns.palplot(sns.hls_palette(), size=1)\n",
    "sns.palplot(sns.husl_palette(), size=1)"
   ]
  },
  {
   "cell_type": "code",
   "execution_count": null,
   "metadata": {},
   "outputs": [],
   "source": [
    "# Check color palette interactively\n",
    "def circular_palette(\n",
    "    palette: str, n_colors: int, desat: float, size: float\n",
    ") -> None:\n",
    "    sns.palplot(\n",
    "        sns.color_palette(\n",
    "            palette=palette, n_colors=n_colors, desat=desat\n",
    "        ), size=size\n",
    "    )\n",
    "    return\n",
    "\n",
    "\n",
    "circular_palettes = ' '.join([\n",
    "    'hls husl',  # from seaborn\n",
    "    'twilight twilight_shifted hsv',  # from matplotlib\n",
    "])\n",
    "_ = interact(\n",
    "    circular_palette,\n",
    "    palette=circular_palettes.split(),\n",
    "    n_colors=IntSlider(value=6, min=1, max=48, step=1),\n",
    "    desat=FloatSlider(value=1.0, min=0.0, max=1.0, step=0.01),\n",
    "    size=FloatSlider(value=1.0, min=1.0, max=3, step=0.1)\n",
    ")"
   ]
  },
  {
   "cell_type": "code",
   "execution_count": null,
   "metadata": {},
   "outputs": [],
   "source": [
    "# Check color palette interactively\n",
    "def circular_hue_palette(\n",
    "    palette: str, n_colors: int, l: float, s: float, h: float, size: float\n",
    ") -> None:\n",
    "    sns.palplot(\n",
    "        eval(f\"sns.{palette}_palette\")(\n",
    "            n_colors=n_colors, l=l, s=s, h=h\n",
    "        ), size=size\n",
    "    )\n",
    "    return\n",
    "\n",
    "\n",
    "_ = interact(\n",
    "    circular_hue_palette,\n",
    "    palette=\"hls husl\".split(),\n",
    "    n_colors=IntSlider(value=6, min=1, max=48, step=1),\n",
    "    l=FloatSlider(value=0.6, min=0, max=1, step=0.01),\n",
    "    s=FloatSlider(value=0.65, min=0, max=1, step=0.01),\n",
    "    h=FloatSlider(value=0.01, min=0, max=1, step=0.01),\n",
    "    size=FloatSlider(value=1.0, min=1.0, max=3, step=0.1)\n",
    ")"
   ]
  },
  {
   "cell_type": "markdown",
   "metadata": {},
   "source": [
    "## Using categorical Color Brewer palettes"
   ]
  },
  {
   "cell_type": "code",
   "execution_count": null,
   "metadata": {},
   "outputs": [],
   "source": [
    "# Basic Example\n",
    "sns.palplot(\n",
    "    sns.color_palette(\n",
    "        palette='Set1', n_colors=None, desat=None\n",
    "    ), size=1\n",
    ")"
   ]
  },
  {
   "cell_type": "code",
   "execution_count": null,
   "metadata": {},
   "outputs": [],
   "source": [
    "def categorical_brewer_palette(\n",
    "    palette: str, n_colors: int, desat: float, size: float,\n",
    ") -> None:\n",
    "    sns.palplot(\n",
    "        sns.color_palette(\n",
    "            palette=palette, n_colors=n_colors, desat=desat\n",
    "        ), size=size\n",
    "    )\n",
    "    return\n",
    "\n",
    "\n",
    "_ = interact(\n",
    "    categorical_brewer_palette,\n",
    "    palette='Set1 Set2 Set3 Paired Accent Pastel1 Pastel2 Dark2'.split(),\n",
    "    n_colors=IntSlider(value=9, min=1, max=48, step=1),\n",
    "    desat=FloatSlider(value=1.0, min=0.0, max=1.0, step=0.01),\n",
    "    size=FloatSlider(value=1.0, min=1.0, max=3, step=0.1)\n",
    ")"
   ]
  },
  {
   "cell_type": "markdown",
   "metadata": {},
   "source": [
    "### 連続カラーパレット (Sequencial color palettes)"
   ]
  },
  {
   "cell_type": "code",
   "execution_count": null,
   "metadata": {},
   "outputs": [],
   "source": [
    "# 基本\n",
    "sns.palplot(sns.color_palette(\"Blues\"))\n",
    "# dark\n",
    "sns.palplot(sns.color_palette(\"Blues_d\"))\n",
    "# reverse\n",
    "sns.palplot(sns.color_palette(\"Blues_r\"))"
   ]
  },
  {
   "cell_type": "code",
   "execution_count": null,
   "metadata": {},
   "outputs": [],
   "source": [
    "sns.choose_colorbrewer_palette('sequential');"
   ]
  },
  {
   "cell_type": "markdown",
   "metadata": {},
   "source": [
    "### cubehelix_paletteを用いた連続カラーパレット (Sequential palettes with cubehelix_palette())"
   ]
  },
  {
   "cell_type": "code",
   "execution_count": null,
   "metadata": {},
   "outputs": [],
   "source": [
    "# 基本\n",
    "sns.palplot(sns.color_palette(\"cubehelix\", 24))"
   ]
  },
  {
   "cell_type": "code",
   "execution_count": null,
   "metadata": {},
   "outputs": [],
   "source": [
    "sns.palplot(sns.cubehelix_palette(24))"
   ]
  },
  {
   "cell_type": "code",
   "execution_count": null,
   "metadata": {},
   "outputs": [],
   "source": [
    "def show_pal2(start, rot):\n",
    "    sns.palplot(sns.cubehelix_palette(24, start=start, rot=rot))\n",
    "interact(show_pal2, start=FloatSlider(max=1), rot=FloatSlider(0.4, max=1));"
   ]
  },
  {
   "cell_type": "code",
   "execution_count": null,
   "metadata": {},
   "outputs": [],
   "source": [
    "sns.palplot(sns.light_palette(\"blue\", 24))\n",
    "sns.palplot(sns.dark_palette(\"blue\", 24))"
   ]
  },
  {
   "cell_type": "code",
   "execution_count": null,
   "metadata": {},
   "outputs": [],
   "source": [
    "def show_pal3(light_or_dark, color, reverse):\n",
    "    sns.palplot(eval('sns.%s_palette'%light_or_dark)(color=color, n_colors=24, reverse=reverse))\n",
    "interact(show_pal3, light_or_dark=('light', 'dark'), color=('blue', 'navy', 'green', 'palegreen', 'red'), reverse=False);"
   ]
  },
  {
   "cell_type": "code",
   "execution_count": null,
   "metadata": {},
   "outputs": [],
   "source": [
    "sns.palplot(sns.color_palette(\"BrBG\", 24))\n",
    "sns.palplot(sns.color_palette(\"RdBu_r\", 24))\n",
    "sns.palplot(sns.color_palette(\"coolwarm\", 24))"
   ]
  },
  {
   "cell_type": "code",
   "execution_count": null,
   "metadata": {},
   "outputs": [],
   "source": [
    "sns.choose_colorbrewer_palette('diverging');"
   ]
  },
  {
   "cell_type": "code",
   "execution_count": null,
   "metadata": {},
   "outputs": [],
   "source": [
    "sns.palplot(sns.diverging_palette(220, 20, n=24))\n",
    "sns.palplot(sns.diverging_palette(145, 280, s=85, l=25, n=24))\n",
    "sns.palplot(sns.diverging_palette(255, 133, l=60, n=24, center=\"dark\"))"
   ]
  },
  {
   "cell_type": "code",
   "execution_count": null,
   "metadata": {},
   "outputs": [],
   "source": [
    "def show_pal4(h_neg, h_pos, s, l, center):\n",
    "    sns.palplot(sns.diverging_palette(h_neg, h_pos, n=24, s=s, l=l, center=center))\n",
    "interact(show_pal4, h_neg=FloatSlider(220, max=360), h_pos=FloatSlider(20, max=360), \n",
    "         s=FloatSlider(75, max=99), l=FloatSlider(50, max=99), center=('light', 'dark'));"
   ]
  }
 ],
 "metadata": {
  "kernelspec": {
   "display_name": "Python 3",
   "language": "python",
   "name": "python3"
  },
  "language_info": {
   "codemirror_mode": {
    "name": "ipython",
    "version": 3
   },
   "file_extension": ".py",
   "mimetype": "text/x-python",
   "name": "python",
   "nbconvert_exporter": "python",
   "pygments_lexer": "ipython3",
   "version": "3.8.5"
  }
 },
 "nbformat": 4,
 "nbformat_minor": 4
}
