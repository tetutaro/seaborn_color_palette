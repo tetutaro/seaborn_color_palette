{
 "cells": [
  {
   "cell_type": "code",
   "execution_count": 1,
   "metadata": {},
   "outputs": [],
   "source": [
    "%matplotlib inline\n",
    "from typing import List, Optional\n",
    "import numpy as np\n",
    "import matplotlib.pyplot as plt\n",
    "import matplotlib.ticker as ticker\n",
    "from matplotlib.colors import ListedColormap, LinearSegmentedColormap, to_rgb\n",
    "import seaborn as sns\n",
    "from ipywidgets import interact, fixed, IntSlider, FloatSlider"
   ]
  },
  {
   "cell_type": "markdown",
   "metadata": {},
   "source": [
    "# Choosing color palettes\n",
    "\n",
    "This notebook is a Jupyter implementation of\n",
    "\"[Choosing color palettes](http://seaborn.pydata.org/tutorial/color_palettes.html)\"(seaborn)\n",
    "and also refers to \n",
    "\"[Choosing Colormaps in Matplotlib](https://matplotlib.org/tutorials/colors/colormaps.html)\"."
   ]
  },
  {
   "cell_type": "code",
   "execution_count": 2,
   "metadata": {},
   "outputs": [
    {
     "data": {
      "image/png": "[encoded data removed]",
      "text/plain": [
       "<Figure size 720x72 with 1 Axes>"
      ]
     },
     "metadata": {
      "needs_background": "light"
     },
     "output_type": "display_data"
    }
   ],
   "source": [
    "# Basic example\n",
    "# If as_cmap is True, returns matplotlib.colors.Colormap\n",
    "#     from seaborn 0.11.0 (Sep. 2020)\n",
    "# desat = desaturate\n",
    "sns.palplot(\n",
    "    sns.color_palette(\n",
    "        palette=None, n_colors=None, desat=None, as_cmap=False\n",
    "    ), size=1\n",
    ")"
   ]
  },
  {
   "cell_type": "markdown",
   "metadata": {},
   "source": [
    "## Functions"
   ]
  },
  {
   "cell_type": "code",
   "execution_count": 3,
   "metadata": {},
   "outputs": [],
   "source": [
    "color_palettes = {\n",
    "    'qualitative': ' '.join([\n",
    "        'deep muted pastel bright dark colorblind',  # seaborn\n",
    "        'Pastel1 Pastel2 Paired Accent Dark2 Set1 Set2 Set3',  # matplotlib\n",
    "        'tab10 tab20 tab20b tab20c',  # matplotlib default\n",
    "    ]),\n",
    "    'cyclic': ' '.join([\n",
    "        'hls husl',  # seaborn\n",
    "        'twilight twilight_shifted hsv'\n",
    "    ]),\n",
    "    'hue': 'hls husl',\n",
    "    'perceptually': ' '.join([\n",
    "        'rocket mako flare crest',  # seaborn\n",
    "        'viridis plasma inferno magma cividis',  # matplotlib\n",
    "    ]),\n",
    "    'monotonically': ' '.join([\n",
    "        'binary gist_yarg gist_gray gray bone pink',  # matplotlib\n",
    "        'spring summer autumn winter cool Wistia',\n",
    "        'hot afmhot gist_heat copper',\n",
    "    ]),\n",
    "    'diverging': ' '.join([\n",
    "        'vlag icefire',  # seaborn (perceptually uniform)\n",
    "        'PiYG PRGn BrBG PuOr RdGy RdBu',  # matplotlib (two colors)\n",
    "        'RdYlBu RdYlGn Spectral coolwarm bwr seismic',  # matplotlib (three or more)\n",
    "    ]),\n",
    "}"
   ]
  },
  {
   "cell_type": "code",
   "execution_count": 4,
   "metadata": {},
   "outputs": [],
   "source": [
    "def draw_color_palettes(\n",
    "    palettes: List[str]\n",
    ") -> None:\n",
    "    fig, axes = plt.subplots(nrows=len(palettes), figsize=(6.4, len(palettes) * 0.4))\n",
    "    fig.subplots_adjust(top=0.95, bottom=0.01, left=0.2, right=0.99)\n",
    "    gradient = np.linspace(0, 1, 256)\n",
    "    gradient = np.vstack((gradient, gradient))\n",
    "    for ax, palette in zip(axes, palettes):\n",
    "        cmap = sns.color_palette(\n",
    "            palette=palette, as_cmap=True\n",
    "        )\n",
    "        if cmap.__class__.__name__ == 'list':\n",
    "            cmap = LinearSegmentedColormap.from_list(\n",
    "                name=palette, N=len(cmap),\n",
    "                colors=[\n",
    "                    to_rgb(x) for x in cmap\n",
    "                ]\n",
    "            )\n",
    "        ax.imshow(gradient, aspect='auto', cmap=cmap)\n",
    "        ax.set_axis_off()\n",
    "        pos = list(ax.get_position().bounds)\n",
    "        x_text = pos[0] - 0.01\n",
    "        y_text = pos[1] + pos[3]/2.\n",
    "        fig.text(x_text, y_text, palette, va='center', ha='right', fontsize=14)\n",
    "    return"
   ]
  },
  {
   "cell_type": "code",
   "execution_count": 5,
   "metadata": {},
   "outputs": [],
   "source": [
    "def draw_each_color_palette(\n",
    "    palette: str,\n",
    "    reverse: bool,\n",
    "    n_colors: Optional[int],\n",
    "    desaturation: Optional[float] = 1.0\n",
    ") -> None:\n",
    "    if reverse:\n",
    "        palette += '_r'\n",
    "    pal = sns.color_palette(\n",
    "        palette=palette, n_colors=n_colors, desat=desaturation, as_cmap=False\n",
    "    )\n",
    "    fig, ax = plt.subplots(1, 1, figsize=(n_colors, 1))\n",
    "    ax.imshow(\n",
    "        np.arange(n_colors).reshape(1, n_colors),\n",
    "        cmap=ListedColormap(list(pal)),\n",
    "        interpolation='nearest', aspect='auto'\n",
    "    )\n",
    "    ax.set_xticks(np.arange(n_colors))\n",
    "    ax.set_yticks([])\n",
    "    ax.set_xticklabels([str(i) for i in range(n_colors)])\n",
    "    ax.yaxis.set_major_locator(ticker.NullLocator())\n",
    "    return"
   ]
  },
  {
   "cell_type": "code",
   "execution_count": 6,
   "metadata": {},
   "outputs": [],
   "source": [
    "def draw_hue_color_palette(\n",
    "    palette: str,\n",
    "    n_colors: Optional[int],\n",
    "    first_hue: Optional[float],\n",
    "    lightness: Optional[float],\n",
    "    saturation: Optional[float]\n",
    ") -> None:\n",
    "    pal = eval(f'sns.{palette}_palette')(\n",
    "        n_colors=n_colors, h=first_hue, l=lightness, s=saturation, as_cmap=False\n",
    "    )\n",
    "    fig, ax = plt.subplots(1, 1, figsize=(n_colors, 1))\n",
    "    ax.imshow(\n",
    "        np.arange(n_colors).reshape(1, n_colors),\n",
    "        cmap=ListedColormap(list(pal)),\n",
    "        interpolation='nearest', aspect='auto'\n",
    "    )\n",
    "    ax.set_xticks(np.arange(n_colors))\n",
    "    ax.set_yticks([])\n",
    "    ax.set_xticklabels([str(i) for i in range(n_colors)])\n",
    "    ax.yaxis.set_major_locator(ticker.NullLocator())\n",
    "    return"
   ]
  },
  {
   "cell_type": "markdown",
   "metadata": {},
   "source": [
    "## Qualitative Color Palettes\n",
    "\n",
    "Use for representing categorical data"
   ]
  },
  {
   "cell_type": "code",
   "execution_count": 7,
   "metadata": {},
   "outputs": [
    {
     "data": {
      "image/png": "[encoded data removed]",
      "text/plain": [
       "<Figure size 460.8x518.4 with 18 Axes>"
      ]
     },
     "metadata": {
      "needs_background": "light"
     },
     "output_type": "display_data"
    }
   ],
   "source": [
    "draw_color_palettes(palettes=color_palettes['qualitative'].split())"
   ]
  },
  {
   "cell_type": "code",
   "execution_count": 8,
   "metadata": {},
   "outputs": [
    {
     "data": {
      "application/vnd.jupyter.widget-view+json": {
       "model_id": "82ac818f99e040cbb3c6d9edb49f9440",
       "version_major": 2,
       "version_minor": 0
      },
      "text/plain": [
       "interactive(children=(Dropdown(description='palette', options=('deep', 'muted', 'pastel', 'bright', 'dark', 'c…"
      ]
     },
     "metadata": {},
     "output_type": "display_data"
    }
   ],
   "source": [
    "# Check color palette interactively\n",
    "_ = interact(\n",
    "    draw_each_color_palette,\n",
    "    palette=color_palettes['qualitative'].split(),\n",
    "    reverse=fixed(False),\n",
    "    n_colors=IntSlider(min=1, max=48, step=1, value=10),\n",
    "    desaturation=FloatSlider(min=0.0, max=1.0, step=0.01, value=1.0)\n",
    ")"
   ]
  },
  {
   "cell_type": "markdown",
   "metadata": {},
   "source": [
    "## Sequential Color Palettes"
   ]
  },
  {
   "cell_type": "markdown",
   "metadata": {},
   "source": [
    "### Cyclic Color Palettes"
   ]
  },
  {
   "cell_type": "code",
   "execution_count": 9,
   "metadata": {},
   "outputs": [
    {
     "data": {
      "image/png": "[encoded data removed]",
      "text/plain": [
       "<Figure size 460.8x144 with 5 Axes>"
      ]
     },
     "metadata": {
      "needs_background": "light"
     },
     "output_type": "display_data"
    }
   ],
   "source": [
    "draw_color_palettes(palettes=color_palettes['cyclic'].split())"
   ]
  },
  {
   "cell_type": "code",
   "execution_count": 10,
   "metadata": {},
   "outputs": [
    {
     "data": {
      "application/vnd.jupyter.widget-view+json": {
       "model_id": "6060e59c3e934c2bac5642be84fa4974",
       "version_major": 2,
       "version_minor": 0
      },
      "text/plain": [
       "interactive(children=(Dropdown(description='palette', options=('hls', 'husl', 'twilight', 'twilight_shifted', …"
      ]
     },
     "metadata": {},
     "output_type": "display_data"
    }
   ],
   "source": [
    "# Check color palette interactively\n",
    "_ = interact(\n",
    "    draw_each_color_palette,\n",
    "    palette=color_palettes['cyclic'].split(),\n",
    "    reverse=fixed(False),\n",
    "    n_colors=IntSlider(min=1, max=48, step=1, value=10),\n",
    "    desaturation=FloatSlider(min=0.0, max=1.0, step=0.01, value=1.0)\n",
    ")"
   ]
  },
  {
   "cell_type": "code",
   "execution_count": 11,
   "metadata": {},
   "outputs": [
    {
     "data": {
      "application/vnd.jupyter.widget-view+json": {
       "model_id": "a289bb32213e40ac900cb70939f65870",
       "version_major": 2,
       "version_minor": 0
      },
      "text/plain": [
       "interactive(children=(Dropdown(description='palette', options=('hls', 'husl'), value='hls'), IntSlider(value=1…"
      ]
     },
     "metadata": {},
     "output_type": "display_data"
    }
   ],
   "source": [
    "# Adjust hue as you like\n",
    "_ = interact(\n",
    "    draw_hue_color_palette,\n",
    "    palette=color_palettes['hue'].split(),\n",
    "    n_colors=IntSlider(min=1, max=48, step=1, value=10),\n",
    "    first_hue=FloatSlider(min=0.0, max=1.0, step=0.01, value=0.01),\n",
    "    lightness=FloatSlider(min=0.0, max=1.0, step=0.01, value=0.6),\n",
    "    saturation=FloatSlider(min=0.0, max=1.0, step=0.01, value=0.65)\n",
    ")"
   ]
  },
  {
   "cell_type": "markdown",
   "metadata": {},
   "source": [
    "### Perceptually Uniform Color Palettes"
   ]
  },
  {
   "cell_type": "code",
   "execution_count": 12,
   "metadata": {},
   "outputs": [
    {
     "data": {
      "image/png": "[encoded data removed]",
      "text/plain": [
       "<Figure size 460.8x259.2 with 9 Axes>"
      ]
     },
     "metadata": {
      "needs_background": "light"
     },
     "output_type": "display_data"
    }
   ],
   "source": [
    "draw_color_palettes(palettes=color_palettes['perceptually'].split())"
   ]
  },
  {
   "cell_type": "code",
   "execution_count": 13,
   "metadata": {},
   "outputs": [
    {
     "data": {
      "application/vnd.jupyter.widget-view+json": {
       "model_id": "c443387c3961488f889779721917043a",
       "version_major": 2,
       "version_minor": 0
      },
      "text/plain": [
       "interactive(children=(Dropdown(description='palette', options=('rocket', 'mako', 'flare', 'crest', 'viridis', …"
      ]
     },
     "metadata": {},
     "output_type": "display_data"
    }
   ],
   "source": [
    "# Check color palette interactively\n",
    "_ = interact(\n",
    "    draw_each_color_palette,\n",
    "    palette=color_palettes['perceptually'].split(),\n",
    "    reverse=False,\n",
    "    n_colors=IntSlider(min=1, max=48, step=1, value=10),\n",
    "    desaturation=FloatSlider(min=0.0, max=1.0, step=0.01, value=1.0)\n",
    ")"
   ]
  },
  {
   "cell_type": "markdown",
   "metadata": {},
   "source": [
    "### Monotonically Increasing Color Palettes"
   ]
  },
  {
   "cell_type": "code",
   "execution_count": 14,
   "metadata": {},
   "outputs": [
    {
     "data": {
      "image/png": "[encoded data removed]",
      "text/plain": [
       "<Figure size 460.8x460.8 with 16 Axes>"
      ]
     },
     "metadata": {
      "needs_background": "light"
     },
     "output_type": "display_data"
    }
   ],
   "source": [
    "draw_color_palettes(palettes=color_palettes['monotonically'].split())"
   ]
  },
  {
   "cell_type": "code",
   "execution_count": 15,
   "metadata": {},
   "outputs": [
    {
     "data": {
      "application/vnd.jupyter.widget-view+json": {
       "model_id": "42fb6648c7334d4eac81364071c5ffd6",
       "version_major": 2,
       "version_minor": 0
      },
      "text/plain": [
       "interactive(children=(Dropdown(description='palette', options=('binary', 'gist_yarg', 'gist_gray', 'gray', 'bo…"
      ]
     },
     "metadata": {},
     "output_type": "display_data"
    }
   ],
   "source": [
    "# Check color palette interactively\n",
    "_ = interact(\n",
    "    draw_each_color_palette,\n",
    "    palette=color_palettes['monotonically'].split(),\n",
    "    reverse=False,\n",
    "    n_colors=IntSlider(min=1, max=48, step=1, value=10),\n",
    "    desaturation=FloatSlider(min=0.0, max=1.0, step=0.01, value=1.0)\n",
    ")"
   ]
  },
  {
   "cell_type": "markdown",
   "metadata": {},
   "source": [
    "### Diverging Color Palettes"
   ]
  },
  {
   "cell_type": "code",
   "execution_count": 16,
   "metadata": {},
   "outputs": [
    {
     "data": {
      "image/png": "[encoded data removed]",
      "text/plain": [
       "<Figure size 460.8x403.2 with 14 Axes>"
      ]
     },
     "metadata": {
      "needs_background": "light"
     },
     "output_type": "display_data"
    }
   ],
   "source": [
    "draw_color_palettes(palettes=color_palettes['diverging'].split())"
   ]
  },
  {
   "cell_type": "code",
   "execution_count": 17,
   "metadata": {},
   "outputs": [
    {
     "data": {
      "application/vnd.jupyter.widget-view+json": {
       "model_id": "cc453e6759574fc79146f7afca67458e",
       "version_major": 2,
       "version_minor": 0
      },
      "text/plain": [
       "interactive(children=(Dropdown(description='palette', options=('vlag', 'icefire', 'PiYG', 'PRGn', 'BrBG', 'PuO…"
      ]
     },
     "metadata": {},
     "output_type": "display_data"
    }
   ],
   "source": [
    "# Check color palette interactively\n",
    "_ = interact(\n",
    "    draw_each_color_palette,\n",
    "    palette=color_palettes['diverging'].split(),\n",
    "    reverse=False,\n",
    "    n_colors=IntSlider(min=1, max=48, step=1, value=10),\n",
    "    desaturation=FloatSlider(min=0.0, max=1.0, step=0.01, value=1.0)\n",
    ")"
   ]
  },
  {
   "cell_type": "markdown",
   "metadata": {},
   "source": [
    "### 連続カラーパレット (Sequencial color palettes)"
   ]
  },
  {
   "cell_type": "code",
   "execution_count": null,
   "metadata": {},
   "outputs": [],
   "source": [
    "# 基本\n",
    "sns.palplot(sns.color_palette(\"Blues\"))\n",
    "# dark\n",
    "sns.palplot(sns.color_palette(\"Blues_d\"))\n",
    "# reverse\n",
    "sns.palplot(sns.color_palette(\"Blues_r\"))"
   ]
  },
  {
   "cell_type": "code",
   "execution_count": null,
   "metadata": {},
   "outputs": [],
   "source": [
    "sns.choose_colorbrewer_palette('sequential');"
   ]
  },
  {
   "cell_type": "markdown",
   "metadata": {},
   "source": [
    "### cubehelix_paletteを用いた連続カラーパレット (Sequential palettes with cubehelix_palette())"
   ]
  },
  {
   "cell_type": "code",
   "execution_count": null,
   "metadata": {},
   "outputs": [],
   "source": [
    "# 基本\n",
    "sns.palplot(sns.color_palette(\"cubehelix\", 24))"
   ]
  },
  {
   "cell_type": "code",
   "execution_count": null,
   "metadata": {},
   "outputs": [],
   "source": [
    "sns.palplot(sns.cubehelix_palette(24))"
   ]
  },
  {
   "cell_type": "code",
   "execution_count": null,
   "metadata": {},
   "outputs": [],
   "source": [
    "def show_pal2(start, rot):\n",
    "    sns.palplot(sns.cubehelix_palette(24, start=start, rot=rot))\n",
    "interact(show_pal2, start=FloatSlider(max=1), rot=FloatSlider(0.4, max=1));"
   ]
  },
  {
   "cell_type": "code",
   "execution_count": null,
   "metadata": {},
   "outputs": [],
   "source": [
    "sns.palplot(sns.light_palette(\"blue\", 24))\n",
    "sns.palplot(sns.dark_palette(\"blue\", 24))"
   ]
  },
  {
   "cell_type": "code",
   "execution_count": null,
   "metadata": {},
   "outputs": [],
   "source": [
    "def show_pal3(light_or_dark, color, reverse):\n",
    "    sns.palplot(eval('sns.%s_palette'%light_or_dark)(color=color, n_colors=24, reverse=reverse))\n",
    "interact(show_pal3, light_or_dark=('light', 'dark'), color=('blue', 'navy', 'green', 'palegreen', 'red'), reverse=False);"
   ]
  },
  {
   "cell_type": "code",
   "execution_count": null,
   "metadata": {},
   "outputs": [],
   "source": [
    "sns.palplot(sns.diverging_palette(220, 20, n=24))\n",
    "sns.palplot(sns.diverging_palette(145, 280, s=85, l=25, n=24))\n",
    "sns.palplot(sns.diverging_palette(255, 133, l=60, n=24, center=\"dark\"))"
   ]
  },
  {
   "cell_type": "code",
   "execution_count": null,
   "metadata": {},
   "outputs": [],
   "source": [
    "def show_pal4(h_neg, h_pos, s, l, center):\n",
    "    sns.palplot(sns.diverging_palette(h_neg, h_pos, n=24, s=s, l=l, center=center))\n",
    "interact(show_pal4, h_neg=FloatSlider(220, max=360), h_pos=FloatSlider(20, max=360), \n",
    "         s=FloatSlider(75, max=99), l=FloatSlider(50, max=99), center=('light', 'dark'));"
   ]
  }
 ],
 "metadata": {
  "kernelspec": {
   "display_name": "Python 3",
   "language": "python",
   "name": "python3"
  },
  "language_info": {
   "codemirror_mode": {
    "name": "ipython",
    "version": 3
   },
   "file_extension": ".py",
   "mimetype": "text/x-python",
   "name": "python",
   "nbconvert_exporter": "python",
   "pygments_lexer": "ipython3",
   "version": "3.8.1"
  }
 },
 "nbformat": 4,
 "nbformat_minor": 4
}
